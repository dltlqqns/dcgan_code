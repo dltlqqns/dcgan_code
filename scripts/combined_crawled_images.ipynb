{
 "cells": [
  {
   "cell_type": "code",
   "execution_count": 4,
   "metadata": {
    "collapsed": false
   },
   "outputs": [],
   "source": [
    "import os\n",
    "import sys\n",
    "sys.path.append('/home/yumin/codes/imagehash')\n",
    "from __future__ import (absolute_import, division, print_function)\n",
    "from PIL import Image\n",
    "import six\n",
    "import glob\n",
    "from shutil import copyfile\n",
    "\n",
    "import imagehash as imagehash"
   ]
  },
  {
   "cell_type": "code",
   "execution_count": null,
   "metadata": {
    "collapsed": true
   },
   "outputs": [],
   "source": [
    "# ids = ['flickr', 'google', 'bing']\n",
    "# classname = 'truck'\n",
    "# #input_dirs = ['D:/v-yusuh/codes/flickr_crawl/%s'%classname, 'D:/v-yusuh/dataset/google_1000/%s'%classname, 'D:/v-yusuh/dataset/bing_1000/%s'%classname]\n",
    "# #output_dir = 'D:/v-yusuh/dataset/web_combined/%s'%classname\n",
    "# #input_dirs = ['/home/yumin/codes/flickr_crawl/%s'%classname,\n",
    "# #              '/home/yumin/codes/google_crawl/google/%s'%classname,\n",
    "# #              '/home/yumin/codes/bing_crawl/%s'%classname]\n",
    "# input_dirs = ['/home/yumin/codes/web_crawl/car/%s'%classname,\n",
    "#               '/home/yumin/codes/web_crawl/car_google/%s'%classname]\n",
    "# output_dir = '/home/yumin/dataset/web_car/%s'%classname\n",
    "\n",
    "# if not os.path.exists(output_dir):\n",
    "#     os.mkdir(output_dir)\n",
    "    \n",
    "# for input_idx, input_dir in enumerate(input_dirs):\n",
    "#     img_list = glob.glob(os.path.join(input_dir, '*.jpg'))\n",
    "#     for img_path in img_list:\n",
    "#         filename = os.path.basename(img_path)\n",
    "# #         copyfile(img_path, os.path.join(output_dir, ids[input_idx]+'_'+filename))\n",
    "#         copyfile(img_path, os.path.join(output_dir, filename))"
   ]
  },
  {
   "cell_type": "code",
   "execution_count": null,
   "metadata": {
    "collapsed": true
   },
   "outputs": [],
   "source": [
    "def find_similar_images(userpath, hashfunc = imagehash.average_hash):\n",
    "    import os\n",
    "    def is_image(filename):\n",
    "        f = filename.lower()\n",
    "        return f.endswith(\".png\") or f.endswith(\".jpg\") or \\\n",
    "            f.endswith(\".jpeg\") or f.endswith(\".bmp\") or f.endswith(\".gif\")\n",
    "    \n",
    "    image_filenames = [os.path.join(userpath, path) for path in os.listdir(userpath) if is_image(path)]\n",
    "    images = {}\n",
    "    for img in sorted(image_filenames):\n",
    "        hash = hashfunc(Image.open(img))\n",
    "        images[hash] = images.get(hash, []) + [img]\n",
    "    \n",
    "    for k, img_list in six.iteritems(images):\n",
    "        if len(img_list) > 1:\n",
    "            print(\" \".join(img_list))\n",
    "            \n",
    "    return images\n",
    "\n",
    "# classnames = ['ambulance', 'bus', 'cab', 'coupe', 'cruiser', 'truck']\n",
    "# classnames = ['eohippus', 'mesohippus', 'pony', 'roan', 'stablemate']\n",
    "classnames = ['airliner', 'amphibian', 'biplane', 'bomber', 'delta_wing']\n",
    "for classname in classnames:\n",
    "    output_dir = '/home/yumin/dataset/web_airplane/%s'%classname\n",
    "    # remove duplicate images\n",
    "    similar_images = find_similar_images(userpath=output_dir)\n",
    "    for k, img_list in six.iteritems(similar_images):\n",
    "        if len(img_list) > 1:\n",
    "            for idx, img_path in enumerate(img_list):\n",
    "                if idx==0:\n",
    "                    continue\n",
    "                if os.path.exists(img_path):\n",
    "                    os.remove(img_path)"
   ]
  }
 ],
 "metadata": {
  "anaconda-cloud": {},
  "kernelspec": {
   "display_name": "Python [conda root]",
   "language": "python",
   "name": "conda-root-py"
  },
  "language_info": {
   "codemirror_mode": {
    "name": "ipython",
    "version": 3
   },
   "file_extension": ".py",
   "mimetype": "text/x-python",
   "name": "python",
   "nbconvert_exporter": "python",
   "pygments_lexer": "ipython3",
   "version": "3.5.2"
  }
 },
 "nbformat": 4,
 "nbformat_minor": 1
}
